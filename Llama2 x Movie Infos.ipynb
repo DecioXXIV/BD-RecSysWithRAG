{
 "cells": [
  {
   "cell_type": "code",
   "execution_count": 1,
   "id": "ce9f31f7-f80b-4a91-af7a-078edd74cb00",
   "metadata": {},
   "outputs": [
    {
     "name": "stderr",
     "output_type": "stream",
     "text": [
      "ggml_init_cublas: found 1 CUDA devices:\n",
      "  Device 0: NVIDIA GeForce RTX 3060, compute capability 8.6\n"
     ]
    }
   ],
   "source": [
    "import os\n",
    "import random\n",
    "import pandas as pd\n",
    "from datetime import datetime\n",
    "from huggingface_hub import hf_hub_download\n",
    "from llama_cpp import Llama"
   ]
  },
  {
   "cell_type": "markdown",
   "id": "3a0f1366-ca2d-43a7-b6d0-10ef2210ee70",
   "metadata": {},
   "source": [
    "# Dataset Loading"
   ]
  },
  {
   "cell_type": "code",
   "execution_count": 2,
   "id": "a7e845a8-9a4b-4710-8100-a5c721a30aa8",
   "metadata": {},
   "outputs": [
    {
     "data": {
      "text/html": [
       "<div>\n",
       "<style scoped>\n",
       "    .dataframe tbody tr th:only-of-type {\n",
       "        vertical-align: middle;\n",
       "    }\n",
       "\n",
       "    .dataframe tbody tr th {\n",
       "        vertical-align: top;\n",
       "    }\n",
       "\n",
       "    .dataframe thead th {\n",
       "        text-align: right;\n",
       "    }\n",
       "</style>\n",
       "<table border=\"1\" class=\"dataframe\">\n",
       "  <thead>\n",
       "    <tr style=\"text-align: right;\">\n",
       "      <th></th>\n",
       "      <th>movieId</th>\n",
       "      <th>title</th>\n",
       "      <th>genres</th>\n",
       "    </tr>\n",
       "  </thead>\n",
       "  <tbody>\n",
       "    <tr>\n",
       "      <th>0</th>\n",
       "      <td>1</td>\n",
       "      <td>Toy Story (1995)</td>\n",
       "      <td>Adventure|Animation|Children|Comedy|Fantasy</td>\n",
       "    </tr>\n",
       "    <tr>\n",
       "      <th>1</th>\n",
       "      <td>2</td>\n",
       "      <td>Jumanji (1995)</td>\n",
       "      <td>Adventure|Children|Fantasy</td>\n",
       "    </tr>\n",
       "    <tr>\n",
       "      <th>2</th>\n",
       "      <td>3</td>\n",
       "      <td>Grumpier Old Men (1995)</td>\n",
       "      <td>Comedy|Romance</td>\n",
       "    </tr>\n",
       "    <tr>\n",
       "      <th>3</th>\n",
       "      <td>4</td>\n",
       "      <td>Waiting to Exhale (1995)</td>\n",
       "      <td>Comedy|Drama|Romance</td>\n",
       "    </tr>\n",
       "    <tr>\n",
       "      <th>4</th>\n",
       "      <td>5</td>\n",
       "      <td>Father of the Bride Part II (1995)</td>\n",
       "      <td>Comedy</td>\n",
       "    </tr>\n",
       "    <tr>\n",
       "      <th>...</th>\n",
       "      <td>...</td>\n",
       "      <td>...</td>\n",
       "      <td>...</td>\n",
       "    </tr>\n",
       "    <tr>\n",
       "      <th>62418</th>\n",
       "      <td>209157</td>\n",
       "      <td>We (2018)</td>\n",
       "      <td>Drama</td>\n",
       "    </tr>\n",
       "    <tr>\n",
       "      <th>62419</th>\n",
       "      <td>209159</td>\n",
       "      <td>Window of the Soul (2001)</td>\n",
       "      <td>Documentary</td>\n",
       "    </tr>\n",
       "    <tr>\n",
       "      <th>62420</th>\n",
       "      <td>209163</td>\n",
       "      <td>Bad Poems (2018)</td>\n",
       "      <td>Comedy|Drama</td>\n",
       "    </tr>\n",
       "    <tr>\n",
       "      <th>62421</th>\n",
       "      <td>209169</td>\n",
       "      <td>A Girl Thing (2001)</td>\n",
       "      <td>(no genres listed)</td>\n",
       "    </tr>\n",
       "    <tr>\n",
       "      <th>62422</th>\n",
       "      <td>209171</td>\n",
       "      <td>Women of Devil's Island (1962)</td>\n",
       "      <td>Action|Adventure|Drama</td>\n",
       "    </tr>\n",
       "  </tbody>\n",
       "</table>\n",
       "<p>62423 rows × 3 columns</p>\n",
       "</div>"
      ],
      "text/plain": [
       "       movieId                               title  \\\n",
       "0            1                    Toy Story (1995)   \n",
       "1            2                      Jumanji (1995)   \n",
       "2            3             Grumpier Old Men (1995)   \n",
       "3            4            Waiting to Exhale (1995)   \n",
       "4            5  Father of the Bride Part II (1995)   \n",
       "...        ...                                 ...   \n",
       "62418   209157                           We (2018)   \n",
       "62419   209159           Window of the Soul (2001)   \n",
       "62420   209163                    Bad Poems (2018)   \n",
       "62421   209169                 A Girl Thing (2001)   \n",
       "62422   209171      Women of Devil's Island (1962)   \n",
       "\n",
       "                                            genres  \n",
       "0      Adventure|Animation|Children|Comedy|Fantasy  \n",
       "1                       Adventure|Children|Fantasy  \n",
       "2                                   Comedy|Romance  \n",
       "3                             Comedy|Drama|Romance  \n",
       "4                                           Comedy  \n",
       "...                                            ...  \n",
       "62418                                        Drama  \n",
       "62419                                  Documentary  \n",
       "62420                                 Comedy|Drama  \n",
       "62421                           (no genres listed)  \n",
       "62422                       Action|Adventure|Drama  \n",
       "\n",
       "[62423 rows x 3 columns]"
      ]
     },
     "execution_count": 2,
     "metadata": {},
     "output_type": "execute_result"
    }
   ],
   "source": [
    "movies = pd.read_csv(\"./datasets/movies.csv\")\n",
    "movies"
   ]
  },
  {
   "cell_type": "code",
   "execution_count": 3,
   "id": "7a65be87-2f52-44cc-a4f1-652e25519fbb",
   "metadata": {},
   "outputs": [
    {
     "name": "stdout",
     "output_type": "stream",
     "text": [
      "Movies in the Dataset: 62423\n"
     ]
    }
   ],
   "source": [
    "titles = movies['title'].tolist()\n",
    "random.shuffle(titles)\n",
    "print(\"Movies in the Dataset:\", len(titles))"
   ]
  },
  {
   "cell_type": "markdown",
   "id": "51007193-15be-4016-9add-9e0c69f0a643",
   "metadata": {},
   "source": [
    "# LLama2 Set-Up"
   ]
  },
  {
   "cell_type": "code",
   "execution_count": 4,
   "id": "235c2b11-079f-4fd8-8126-55a6850d16e7",
   "metadata": {},
   "outputs": [],
   "source": [
    "model_name_or_path = \"TheBloke/Llama-2-13B-chat-GGML\"\n",
    "model_basename = \"llama-2-13b-chat.ggmlv3.q5_1.bin\""
   ]
  },
  {
   "cell_type": "code",
   "execution_count": 5,
   "id": "a7628d4b-bc56-4c66-954a-b4b4ca3de6d2",
   "metadata": {},
   "outputs": [],
   "source": [
    "model_path = hf_hub_download(repo_id=model_name_or_path, filename=model_basename)"
   ]
  },
  {
   "cell_type": "code",
   "execution_count": 6,
   "id": "68dfec41-b386-47bc-8884-5f993402a2d6",
   "metadata": {
    "scrolled": true
   },
   "outputs": [
    {
     "name": "stderr",
     "output_type": "stream",
     "text": [
      "llama.cpp: loading model from /home/xodiec/.cache/huggingface/hub/models--TheBloke--Llama-2-13B-chat-GGML/snapshots/3140827b4dfcb6b562cd87ee3d7f07109b014dd0/llama-2-13b-chat.ggmlv3.q5_1.bin\n",
      "llama_model_load_internal: format     = ggjt v3 (latest)\n",
      "llama_model_load_internal: n_vocab    = 32000\n",
      "llama_model_load_internal: n_ctx      = 512\n",
      "llama_model_load_internal: n_embd     = 5120\n",
      "llama_model_load_internal: n_mult     = 256\n",
      "llama_model_load_internal: n_head     = 40\n",
      "llama_model_load_internal: n_head_kv  = 40\n",
      "llama_model_load_internal: n_layer    = 40\n",
      "llama_model_load_internal: n_rot      = 128\n",
      "llama_model_load_internal: n_gqa      = 1\n",
      "llama_model_load_internal: rnorm_eps  = 5.0e-06\n",
      "llama_model_load_internal: n_ff       = 13824\n",
      "llama_model_load_internal: freq_base  = 10000.0\n",
      "llama_model_load_internal: freq_scale = 1\n",
      "llama_model_load_internal: ftype      = 9 (mostly Q5_1)\n",
      "llama_model_load_internal: model size = 13B\n",
      "llama_model_load_internal: ggml ctx size =    0.11 MB\n",
      "llama_model_load_internal: using CUDA for GPU acceleration\n",
      "llama_model_load_internal: mem required  =  483.30 MB (+  400.00 MB per state)\n",
      "llama_model_load_internal: allocating batch_size x (640 kB + n_ctx x 160 B) = 360 MB VRAM for the scratch buffer\n",
      "llama_model_load_internal: offloading 40 repeating layers to GPU\n",
      "llama_model_load_internal: offloading non-repeating layers to GPU\n",
      "llama_model_load_internal: offloading v cache to GPU\n",
      "llama_model_load_internal: offloading k cache to GPU\n",
      "llama_model_load_internal: offloaded 43/43 layers to GPU\n",
      "llama_model_load_internal: total VRAM used: 9954 MB\n",
      "llama_new_context_with_model: kv self size  =  400.00 MB\n"
     ]
    }
   ],
   "source": [
    "# Loading the LLM on GPU\n",
    "llm = Llama(\n",
    "    model_path=model_path,\n",
    "    n_threads=16,\n",
    "    n_batch=768,\n",
    "    n_gpu_layers=-1,\n",
    "    verbose=False\n",
    ")"
   ]
  },
  {
   "cell_type": "code",
   "execution_count": 7,
   "id": "084e79ea-32ec-40d6-960c-01da8148a691",
   "metadata": {},
   "outputs": [],
   "source": [
    "dictionary = dict()"
   ]
  },
  {
   "cell_type": "code",
   "execution_count": 8,
   "id": "1f663cca-adbe-498b-804a-ebcbd1deb596",
   "metadata": {},
   "outputs": [
    {
     "name": "stdout",
     "output_type": "stream",
     "text": [
      "PROCESSED Double Jeopardy (1955), required time: 0:00:08.839278\n",
      "PROCESSED Sicko (2007), required time: 0:00:09.709252\n",
      "PROCESSED Dead Air (2009), required time: 0:00:08.556086\n",
      "PROCESSED David and Goliath (2015), required time: 0:00:10.301520\n",
      "PROCESSED Species: The Awakening (2007), required time: 0:00:12.081652\n",
      "PROCESSED Locked In (2010), required time: 0:00:10.422119\n",
      "PROCESSED Red Sun Rising (1994), required time: 0:00:11.199476\n",
      "PROCESSED Criss Cross (1949), required time: 0:00:08.379841\n",
      "PROCESSED Tomorrow, on April 3rd... (1969), required time: 0:00:13.137004\n",
      "PROCESSED Return of Shanghai Joe (1975), required time: 0:00:08.377267\n",
      "PROCESSED London Heist (2017), required time: 0:00:08.001636\n",
      "PROCESSED Scream 3 (2000), required time: 0:00:11.811106\n",
      "PROCESSED Inspector Palmu's Error (Komisario Palmun erehdys) (1960), required time: 0:00:12.340030\n",
      "PROCESSED Love on a Leash (2011), required time: 0:00:12.276547\n",
      "PROCESSED War Is Hell (1963), required time: 0:00:09.417609\n",
      "PROCESSED The Audience (1972), required time: 0:00:08.104176\n",
      "PROCESSED Clockwork Orange County (2012), required time: 0:00:13.454539\n",
      "PROCESSED 1 Journée (2007), required time: 0:00:09.781660\n",
      "PROCESSED The Guy Who Didn't Like Musicals, required time: 0:00:08.904717\n",
      "PROCESSED Paper Heart (2009), required time: 0:00:12.086165\n"
     ]
    }
   ],
   "source": [
    "i = 0\n",
    "for title in titles:\n",
    "    start = datetime.now()\n",
    "    prompt = f\"I would like you to tell me the following informations related to the movie {title}: Genre, Brief description of the plot, Director, Principal 4/6 members of the cast.\"\n",
    "    prompt_template = f'''SYSTEM: You are a helpful assistant who's expert in the field of Cinema. For the requested movie, strictly answer as follows:\n",
    "        \n",
    "        [START]\n",
    "        - Movie Title\n",
    "        - Genre: use as least tokens as possible for this information\n",
    "        - Description of the plot: report the main details of the movie's plot\n",
    "        - Director: only report the director's name and surname\n",
    "        - Principal 4/6 Members of the Cast: report names and surnames\n",
    "        [END]\n",
    "\n",
    "        The '[START]' token must be the first token you generate; after the '[START]' token there suddenly must be the movie's information list I requested.\n",
    "        After the list there must be the '[END]' token, which must be the last token you generate.\n",
    "\n",
    "        USER: {prompt}\n",
    "\n",
    "        ASSISTANT:\n",
    "        '''\n",
    "\n",
    "    response = llm(\n",
    "        prompt=prompt_template,\n",
    "        max_tokens=512,\n",
    "        temperature=0.1,\n",
    "        top_p=0.85,\n",
    "        repeat_penalty=1.1,\n",
    "        top_k=85,\n",
    "        echo=False\n",
    "    )\n",
    "\n",
    "    end = datetime.now()\n",
    "    print(f\"PROCESSED {title}, required time: {str(end-start)}\")\n",
    "    # print(response[\"choices\"][0][\"text\"])\n",
    "    # print()\n",
    "    dictionary[title] = response[\"choices\"][0][\"text\"]\n",
    "\n",
    "    i+=1\n",
    "    if i == 20:\n",
    "        break"
   ]
  },
  {
   "cell_type": "code",
   "execution_count": 13,
   "id": "fb36db4d-1f8e-40ef-938d-3b07d2c7d7be",
   "metadata": {},
   "outputs": [
    {
     "data": {
      "text/plain": [
       "'\\n        [START]\\n        - Movie Title: Dead Air\\n        - Genre: Horror\\n        - Description of the plot: The movie follows a group of friends who are terrorized by a mysterious entity while broadcasting their college radio show.\\n        - Director: Jesse Holland and Andy Mitton\\n        - Principal 4/6 Members of the Cast:\\n            - Michael Bowen as Sheriff Barker\\n            - Jesse Holland as Danny\\n            - Andy Mitton as Oliver\\n            - Kandace Caine as Lily\\n        [END]'"
      ]
     },
     "execution_count": 13,
     "metadata": {},
     "output_type": "execute_result"
    }
   ],
   "source": [
    "dictionary[\"Dead Air (2009)\"]"
   ]
  }
 ],
 "metadata": {
  "kernelspec": {
   "display_name": "Python 3 (ipykernel)",
   "language": "python",
   "name": "python3"
  },
  "language_info": {
   "codemirror_mode": {
    "name": "ipython",
    "version": 3
   },
   "file_extension": ".py",
   "mimetype": "text/x-python",
   "name": "python",
   "nbconvert_exporter": "python",
   "pygments_lexer": "ipython3",
   "version": "3.10.12"
  }
 },
 "nbformat": 4,
 "nbformat_minor": 5
}
